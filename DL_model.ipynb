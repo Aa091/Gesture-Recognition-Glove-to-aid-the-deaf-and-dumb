{
 "cells": [
  {
   "cell_type": "code",
   "execution_count": 1,
   "metadata": {},
   "outputs": [
    {
     "name": "stderr",
     "output_type": "stream",
     "text": [
      "2024-04-18 23:36:23.606910: I tensorflow/core/platform/cpu_feature_guard.cc:210] This TensorFlow binary is optimized to use available CPU instructions in performance-critical operations.\n",
      "To enable the following instructions: AVX2 FMA, in other operations, rebuild TensorFlow with the appropriate compiler flags.\n"
     ]
    }
   ],
   "source": [
    "import pandas as pd\n",
    "import numpy as np\n",
    "from tensorflow.keras import layers, models\n",
    "import tensorflow as tf\n",
    "from sklearn.model_selection import train_test_split\n",
    "from sklearn.preprocessing import StandardScaler"
   ]
  },
  {
   "cell_type": "code",
   "execution_count": 2,
   "metadata": {},
   "outputs": [],
   "source": [
    "#load check.csv\n",
    "\n",
    "check = pd.read_csv('/Users/Aash/Desktop/Python/Words/check.csv')\n"
   ]
  },
  {
   "cell_type": "code",
   "execution_count": 3,
   "metadata": {},
   "outputs": [],
   "source": [
    "\n",
    "# Assume that all columns except 'label' are features\n",
    "X = check.drop('label', axis=1).values\n",
    "\n",
    "# Assume that the 'label' column is the target\n",
    "y = check['label'].values"
   ]
  },
  {
   "cell_type": "code",
   "execution_count": 4,
   "metadata": {},
   "outputs": [],
   "source": [
    "from sklearn.model_selection import train_test_split\n",
    "\n",
    "# Split the data into training and test sets\n",
    "X_train, X_test, y_train, y_test = train_test_split(X, y, test_size=0.2, random_state=42, shuffle=True)"
   ]
  },
  {
   "cell_type": "code",
   "execution_count": 5,
   "metadata": {},
   "outputs": [],
   "source": [
    "from sklearn.preprocessing import MinMaxScaler\n",
    "\n",
    "# Create a MinMaxScaler object with desired feature range\n",
    "scaler = MinMaxScaler(feature_range=(-1, 1))\n",
    "\n",
    "# Fit and transform your data\n",
    "X_trainScaled = scaler.fit_transform(X_train)\n",
    "X_testScaled = scaler.transform(X_test)\n",
    "\n"
   ]
  },
  {
   "cell_type": "code",
   "execution_count": 6,
   "metadata": {},
   "outputs": [],
   "source": [
    "y_train = tf.keras.utils.to_categorical(y_train, num_classes=14)\n",
    "y_test = tf.keras.utils.to_categorical(y_test, num_classes=14)"
   ]
  },
  {
   "cell_type": "code",
   "execution_count": 7,
   "metadata": {},
   "outputs": [
    {
     "name": "stderr",
     "output_type": "stream",
     "text": [
      "/Library/Frameworks/Python.framework/Versions/3.11/lib/python3.11/site-packages/keras/src/layers/core/dense.py:86: UserWarning: Do not pass an `input_shape`/`input_dim` argument to a layer. When using Sequential models, prefer using an `Input(shape)` object as the first layer in the model instead.\n",
      "  super().__init__(activity_regularizer=activity_regularizer, **kwargs)\n"
     ]
    }
   ],
   "source": [
    "model = models.Sequential([\n",
    "    layers.Dense(32, activation='relu', input_shape=(X_trainScaled.shape[1],)),\n",
    "    layers.Dropout(0.1),\n",
    "    layers.Dense(26, activation='relu'),\n",
    "    layers.Dropout(0.1),\n",
    "    layers.Dense(14, activation='softmax')\n",
    "])"
   ]
  },
  {
   "cell_type": "code",
   "execution_count": 8,
   "metadata": {},
   "outputs": [],
   "source": [
    "optimizer = tf.keras.optimizers.Adam(learning_rate=0.00005)\n",
    "\n",
    "model.compile(optimizer=optimizer,\n",
    "              loss='categorical_crossentropy',\n",
    "              metrics=['accuracy'])"
   ]
  },
  {
   "cell_type": "code",
   "execution_count": 9,
   "metadata": {},
   "outputs": [
    {
     "data": {
      "text/plain": [
       "(16800, 21)"
      ]
     },
     "execution_count": 9,
     "metadata": {},
     "output_type": "execute_result"
    }
   ],
   "source": [
    "X_train.shape"
   ]
  },
  {
   "cell_type": "code",
   "execution_count": 10,
   "metadata": {},
   "outputs": [
    {
     "name": "stdout",
     "output_type": "stream",
     "text": [
      "Epoch 1/30\n",
      "\u001b[1m420/420\u001b[0m \u001b[32m━━━━━━━━━━━━━━━━━━━━\u001b[0m\u001b[37m\u001b[0m \u001b[1m3s\u001b[0m 3ms/step - accuracy: 0.1032 - loss: 2.6371 - val_accuracy: 0.1738 - val_loss: 2.5543\n",
      "Epoch 2/30\n",
      "\u001b[1m420/420\u001b[0m \u001b[32m━━━━━━━━━━━━━━━━━━━━\u001b[0m\u001b[37m\u001b[0m \u001b[1m1s\u001b[0m 3ms/step - accuracy: 0.1751 - loss: 2.5369 - val_accuracy: 0.2688 - val_loss: 2.4340\n",
      "Epoch 3/30\n",
      "\u001b[1m420/420\u001b[0m \u001b[32m━━━━━━━━━━━━━━━━━━━━\u001b[0m\u001b[37m\u001b[0m \u001b[1m1s\u001b[0m 2ms/step - accuracy: 0.2693 - loss: 2.4112 - val_accuracy: 0.4304 - val_loss: 2.2918\n",
      "Epoch 4/30\n",
      "\u001b[1m420/420\u001b[0m \u001b[32m━━━━━━━━━━━━━━━━━━━━\u001b[0m\u001b[37m\u001b[0m \u001b[1m1s\u001b[0m 3ms/step - accuracy: 0.3621 - loss: 2.2712 - val_accuracy: 0.5940 - val_loss: 2.1197\n",
      "Epoch 5/30\n",
      "\u001b[1m420/420\u001b[0m \u001b[32m━━━━━━━━━━━━━━━━━━━━\u001b[0m\u001b[37m\u001b[0m \u001b[1m2s\u001b[0m 4ms/step - accuracy: 0.4664 - loss: 2.1097 - val_accuracy: 0.7086 - val_loss: 1.9292\n",
      "Epoch 6/30\n",
      "\u001b[1m420/420\u001b[0m \u001b[32m━━━━━━━━━━━━━━━━━━━━\u001b[0m\u001b[37m\u001b[0m \u001b[1m1s\u001b[0m 3ms/step - accuracy: 0.5433 - loss: 1.9206 - val_accuracy: 0.7545 - val_loss: 1.7261\n",
      "Epoch 7/30\n",
      "\u001b[1m420/420\u001b[0m \u001b[32m━━━━━━━━━━━━━━━━━━━━\u001b[0m\u001b[37m\u001b[0m \u001b[1m1s\u001b[0m 2ms/step - accuracy: 0.6012 - loss: 1.7279 - val_accuracy: 0.7714 - val_loss: 1.5168\n",
      "Epoch 8/30\n",
      "\u001b[1m420/420\u001b[0m \u001b[32m━━━━━━━━━━━━━━━━━━━━\u001b[0m\u001b[37m\u001b[0m \u001b[1m1s\u001b[0m 3ms/step - accuracy: 0.6427 - loss: 1.5403 - val_accuracy: 0.8027 - val_loss: 1.3240\n",
      "Epoch 9/30\n",
      "\u001b[1m420/420\u001b[0m \u001b[32m━━━━━━━━━━━━━━━━━━━━\u001b[0m\u001b[37m\u001b[0m \u001b[1m1s\u001b[0m 3ms/step - accuracy: 0.6778 - loss: 1.3712 - val_accuracy: 0.8378 - val_loss: 1.1533\n",
      "Epoch 10/30\n",
      "\u001b[1m420/420\u001b[0m \u001b[32m━━━━━━━━━━━━━━━━━━━━\u001b[0m\u001b[37m\u001b[0m \u001b[1m2s\u001b[0m 4ms/step - accuracy: 0.7064 - loss: 1.2209 - val_accuracy: 0.8679 - val_loss: 1.0057\n",
      "Epoch 11/30\n",
      "\u001b[1m420/420\u001b[0m \u001b[32m━━━━━━━━━━━━━━━━━━━━\u001b[0m\u001b[37m\u001b[0m \u001b[1m1s\u001b[0m 3ms/step - accuracy: 0.7419 - loss: 1.0953 - val_accuracy: 0.8821 - val_loss: 0.8816\n",
      "Epoch 12/30\n",
      "\u001b[1m420/420\u001b[0m \u001b[32m━━━━━━━━━━━━━━━━━━━━\u001b[0m\u001b[37m\u001b[0m \u001b[1m1s\u001b[0m 3ms/step - accuracy: 0.7638 - loss: 0.9804 - val_accuracy: 0.9021 - val_loss: 0.7789\n",
      "Epoch 13/30\n",
      "\u001b[1m420/420\u001b[0m \u001b[32m━━━━━━━━━━━━━━━━━━━━\u001b[0m\u001b[37m\u001b[0m \u001b[1m2s\u001b[0m 4ms/step - accuracy: 0.7845 - loss: 0.8907 - val_accuracy: 0.8869 - val_loss: 0.6921\n",
      "Epoch 14/30\n",
      "\u001b[1m420/420\u001b[0m \u001b[32m━━━━━━━━━━━━━━━━━━━━\u001b[0m\u001b[37m\u001b[0m \u001b[1m2s\u001b[0m 4ms/step - accuracy: 0.7919 - loss: 0.8203 - val_accuracy: 0.8914 - val_loss: 0.6194\n",
      "Epoch 15/30\n",
      "\u001b[1m420/420\u001b[0m \u001b[32m━━━━━━━━━━━━━━━━━━━━\u001b[0m\u001b[37m\u001b[0m \u001b[1m2s\u001b[0m 4ms/step - accuracy: 0.8079 - loss: 0.7478 - val_accuracy: 0.8899 - val_loss: 0.5577\n",
      "Epoch 16/30\n",
      "\u001b[1m420/420\u001b[0m \u001b[32m━━━━━━━━━━━━━━━━━━━━\u001b[0m\u001b[37m\u001b[0m \u001b[1m1s\u001b[0m 3ms/step - accuracy: 0.8195 - loss: 0.6976 - val_accuracy: 0.8929 - val_loss: 0.5049\n",
      "Epoch 17/30\n",
      "\u001b[1m420/420\u001b[0m \u001b[32m━━━━━━━━━━━━━━━━━━━━\u001b[0m\u001b[37m\u001b[0m \u001b[1m1s\u001b[0m 3ms/step - accuracy: 0.8231 - loss: 0.6487 - val_accuracy: 0.8970 - val_loss: 0.4597\n",
      "Epoch 18/30\n",
      "\u001b[1m420/420\u001b[0m \u001b[32m━━━━━━━━━━━━━━━━━━━━\u001b[0m\u001b[37m\u001b[0m \u001b[1m1s\u001b[0m 3ms/step - accuracy: 0.8370 - loss: 0.6024 - val_accuracy: 0.9018 - val_loss: 0.4196\n",
      "Epoch 19/30\n",
      "\u001b[1m420/420\u001b[0m \u001b[32m━━━━━━━━━━━━━━━━━━━━\u001b[0m\u001b[37m\u001b[0m \u001b[1m1s\u001b[0m 3ms/step - accuracy: 0.8472 - loss: 0.5506 - val_accuracy: 0.9083 - val_loss: 0.3847\n",
      "Epoch 20/30\n",
      "\u001b[1m420/420\u001b[0m \u001b[32m━━━━━━━━━━━━━━━━━━━━\u001b[0m\u001b[37m\u001b[0m \u001b[1m2s\u001b[0m 4ms/step - accuracy: 0.8503 - loss: 0.5242 - val_accuracy: 0.9101 - val_loss: 0.3542\n",
      "Epoch 21/30\n",
      "\u001b[1m420/420\u001b[0m \u001b[32m━━━━━━━━━━━━━━━━━━━━\u001b[0m\u001b[37m\u001b[0m \u001b[1m1s\u001b[0m 3ms/step - accuracy: 0.8607 - loss: 0.4895 - val_accuracy: 0.9149 - val_loss: 0.3274\n",
      "Epoch 22/30\n",
      "\u001b[1m420/420\u001b[0m \u001b[32m━━━━━━━━━━━━━━━━━━━━\u001b[0m\u001b[37m\u001b[0m \u001b[1m1s\u001b[0m 3ms/step - accuracy: 0.8638 - loss: 0.4661 - val_accuracy: 0.9146 - val_loss: 0.3039\n",
      "Epoch 23/30\n",
      "\u001b[1m420/420\u001b[0m \u001b[32m━━━━━━━━━━━━━━━━━━━━\u001b[0m\u001b[37m\u001b[0m \u001b[1m1s\u001b[0m 3ms/step - accuracy: 0.8756 - loss: 0.4323 - val_accuracy: 0.9190 - val_loss: 0.2831\n",
      "Epoch 24/30\n",
      "\u001b[1m420/420\u001b[0m \u001b[32m━━━━━━━━━━━━━━━━━━━━\u001b[0m\u001b[37m\u001b[0m \u001b[1m1s\u001b[0m 3ms/step - accuracy: 0.8700 - loss: 0.4198 - val_accuracy: 0.9167 - val_loss: 0.2655\n",
      "Epoch 25/30\n",
      "\u001b[1m420/420\u001b[0m \u001b[32m━━━━━━━━━━━━━━━━━━━━\u001b[0m\u001b[37m\u001b[0m \u001b[1m1s\u001b[0m 3ms/step - accuracy: 0.8717 - loss: 0.3965 - val_accuracy: 0.9193 - val_loss: 0.2494\n",
      "Epoch 26/30\n",
      "\u001b[1m420/420\u001b[0m \u001b[32m━━━━━━━━━━━━━━━━━━━━\u001b[0m\u001b[37m\u001b[0m \u001b[1m1s\u001b[0m 3ms/step - accuracy: 0.8852 - loss: 0.3667 - val_accuracy: 0.9214 - val_loss: 0.2352\n",
      "Epoch 27/30\n",
      "\u001b[1m420/420\u001b[0m \u001b[32m━━━━━━━━━━━━━━━━━━━━\u001b[0m\u001b[37m\u001b[0m \u001b[1m1s\u001b[0m 3ms/step - accuracy: 0.8891 - loss: 0.3560 - val_accuracy: 0.9256 - val_loss: 0.2227\n",
      "Epoch 28/30\n",
      "\u001b[1m420/420\u001b[0m \u001b[32m━━━━━━━━━━━━━━━━━━━━\u001b[0m\u001b[37m\u001b[0m \u001b[1m1s\u001b[0m 3ms/step - accuracy: 0.8894 - loss: 0.3436 - val_accuracy: 0.9274 - val_loss: 0.2111\n",
      "Epoch 29/30\n",
      "\u001b[1m420/420\u001b[0m \u001b[32m━━━━━━━━━━━━━━━━━━━━\u001b[0m\u001b[37m\u001b[0m \u001b[1m1s\u001b[0m 3ms/step - accuracy: 0.8916 - loss: 0.3266 - val_accuracy: 0.9310 - val_loss: 0.2010\n",
      "Epoch 30/30\n",
      "\u001b[1m420/420\u001b[0m \u001b[32m━━━━━━━━━━━━━━━━━━━━\u001b[0m\u001b[37m\u001b[0m \u001b[1m1s\u001b[0m 3ms/step - accuracy: 0.9045 - loss: 0.3004 - val_accuracy: 0.9336 - val_loss: 0.1916\n"
     ]
    }
   ],
   "source": [
    "history = model.fit(X_trainScaled, y_train, epochs=30, batch_size=32, verbose=1, validation_split=0.2)"
   ]
  },
  {
   "cell_type": "code",
   "execution_count": 11,
   "metadata": {},
   "outputs": [
    {
     "data": {
      "text/plain": [
       "[<matplotlib.lines.Line2D at 0x13208d8d0>]"
      ]
     },
     "execution_count": 11,
     "metadata": {},
     "output_type": "execute_result"
    },
    {
     "data": {
      "image/png": "[encoded data removed]",
      "text/plain": [
       "<Figure size 640x480 with 1 Axes>"
      ]
     },
     "metadata": {},
     "output_type": "display_data"
    }
   ],
   "source": [
    "#plot the training and validation accuracy and loss\n",
    "\n",
    "import matplotlib.pyplot as plt\n",
    "\n",
    "plt.plot(history.history['loss'])"
   ]
  },
  {
   "cell_type": "code",
   "execution_count": 12,
   "metadata": {},
   "outputs": [
    {
     "name": "stdout",
     "output_type": "stream",
     "text": [
      "\u001b[1m132/132\u001b[0m \u001b[32m━━━━━━━━━━━━━━━━━━━━\u001b[0m\u001b[37m\u001b[0m \u001b[1m0s\u001b[0m 2ms/step - accuracy: 0.9353 - loss: 0.1875\n",
      "Test accuracy: 0.9316666722297668\n"
     ]
    }
   ],
   "source": [
    "test_loss, test_acc = model.evaluate(X_testScaled, y_test)\n",
    "print('Test accuracy:', test_acc)"
   ]
  },
  {
   "cell_type": "code",
   "execution_count": 13,
   "metadata": {},
   "outputs": [
    {
     "name": "stdout",
     "output_type": "stream",
     "text": [
      "\u001b[1m132/132\u001b[0m \u001b[32m━━━━━━━━━━━━━━━━━━━━\u001b[0m\u001b[37m\u001b[0m \u001b[1m0s\u001b[0m 2ms/step\n"
     ]
    },
    {
     "data": {
      "image/png": "[encoded data removed]",
      "text/plain": [
       "<Figure size 1000x1000 with 1 Axes>"
      ]
     },
     "metadata": {},
     "output_type": "display_data"
    },
    {
     "name": "stdout",
     "output_type": "stream",
     "text": [
      "[[260   0   7   0   0   0   0   0   0   0   0   0   0   0]\n",
      " [  0 299   0   0   0   0   0   0   0   0   0   0   0   0]\n",
      " [  0   0 328   0   0   0   0   0   0   0   0   0   0   0]\n",
      " [  0   0   0 209   0   0   0   0   0   0   0 113   0   0]\n",
      " [  0   0   0   0 303   0   0   0   0   0   0   0   0   0]\n",
      " [  0   0   0   0   0 327   0   0   0   0   0   0   0   0]\n",
      " [  0   0   0   0   0   0 298   0   0   0   1   0   0   0]\n",
      " [  0   0   0   0   0   0   0 305   0   0   0   0   0   0]\n",
      " [  0   0   0   0   0   0   0   0 304   0   0   0   0   0]\n",
      " [  0   0   0   0   0   0   0   0   0 269   0   0   0   0]\n",
      " [  0   0   0   0   0   0   0   0   0   0 279   0   0   0]\n",
      " [  0   0   0  78   0   0   0   0   0   0   0 216   0   0]\n",
      " [  0   0   0   0   0   0   0   0   0   0   0   0 301   0]\n",
      " [  0   0   0   0   0   0   0  88   0   0   0   0   0 215]]\n"
     ]
    }
   ],
   "source": [
    "#confusion matrix\n",
    "\n",
    "from sklearn.metrics import confusion_matrix\n",
    "import seaborn as sns\n",
    "\n",
    "y_pred = model.predict(X_testScaled)\n",
    "y_pred = np.argmax(y_pred, axis=1)\n",
    "y_test = np.argmax(y_test, axis=1)\n",
    "\n",
    "cm = confusion_matrix(y_test, y_pred)\n",
    "plt.figure(figsize=(10, 10))\n",
    "sns.heatmap(cm, annot=True, fmt='d', cmap='Blues', cbar=False)\n",
    "plt.xlabel('Predicted')\n",
    "plt.ylabel('Actual')\n",
    "plt.show()\n",
    "print(cm)\n"
   ]
  },
  {
   "cell_type": "code",
   "execution_count": 14,
   "metadata": {},
   "outputs": [
    {
     "name": "stdout",
     "output_type": "stream",
     "text": [
      "\u001b[1m1/1\u001b[0m \u001b[32m━━━━━━━━━━━━━━━━━━━━\u001b[0m\u001b[37m\u001b[0m \u001b[1m0s\u001b[0m 33ms/step\n",
      "[[6.6239544e-04 6.2469475e-04 1.8742486e-06 1.7597510e-07 1.2028371e-05\n",
      "  1.7870039e-04 4.4906607e-09 1.0410220e-02 3.5923425e-04 1.6405366e-08\n",
      "  2.9836714e-04 7.0830602e-08 7.9761314e-01 1.8983911e-01]]\n",
      "[12]\n"
     ]
    }
   ],
   "source": [
    "#predict the label for \n",
    "# samples = np.array([[ -3.0, 8.0 ,-13.0 ,-26.0 ,-5.0, 0.955078, 0.07196, 0.160217, -0.238586, 0.0 ,0.0 ,-0.007634 ,-3.352002 ,0.685474 ,9.37771 ,-0.015552 ,0.087329, 0.181836 ,0.077759, 0.044263, 0.18064\n",
    "# ]])\n",
    "\n",
    "# samples = np.array([[53.0, 57.0 ,77.0, 70.0, 61.0 ,0.762634, 0.120483, -0.182434, -0.000854, -0.007634, 0.0 ,0.0 ,2.941675, 10.066772, 1.567139, 0.224902, 0.788355, -0.0323 ,-5.040674, -1.160303, -5.80271]])\n",
    "\n",
    "samples = np.array([[53.0, 52.0 ,87.0, 84.0, 61.0 ,0.762634, 0.120483, -0.182434, -0.000854, -0.007634, 0.0 ,0.0 ,2.941675, 10.066772, 1.567139, 0.224902, 0.788355, -0.0323 ,0.040674, 0.160303, 0.80271]])\n",
    "\n",
    "\n",
    "# 53.0,57.0,72.0,76.0,59.0,0.98761,0.132263,-0.034302,0.077148,0.343511,0.78626,0.007634,-7.558154,1.027612,3.996802,-8.421875,-1.47981,-5.437134,-7.80459,-1.167578,-6.354688\n",
    "\n",
    "samples = scaler.transform(samples)\n",
    "predictions = model.predict(samples)\n",
    "# predictions =  np.argmax(predictions, axis=1)\n",
    "\n",
    "print(predictions)\n",
    "\n",
    "p =  np.argmax(predictions, axis=1)\n",
    "print(p)\n",
    "\n"
   ]
  },
  {
   "cell_type": "code",
   "execution_count": 15,
   "metadata": {},
   "outputs": [
    {
     "data": {
      "text/plain": [
       "(53.0,\n",
       " 57.0,\n",
       " 72.0,\n",
       " 76.0,\n",
       " 59.0,\n",
       " 0.98761,\n",
       " 0.132263,\n",
       " -0.034302,\n",
       " 0.077148,\n",
       " 0.343511,\n",
       " 0.78626,\n",
       " 0.007634,\n",
       " -7.558154,\n",
       " 1.027612,\n",
       " 3.996802,\n",
       " -8.421875,\n",
       " -1.47981,\n",
       " -5.437134,\n",
       " -7.80459,\n",
       " -1.167578,\n",
       " -6.354688)"
      ]
     },
     "execution_count": 15,
     "metadata": {},
     "output_type": "execute_result"
    }
   ],
   "source": [
    "\n",
    "53.0,57.0,72.0,76.0,59.0,0.98761,0.132263,-0.034302,0.077148,0.343511,0.78626,0.007634,-7.558154,1.027612,3.996802,-8.421875,-1.47981,-5.437134,-7.80459,-1.167578,-6.354688"
   ]
  },
  {
   "cell_type": "code",
   "execution_count": 16,
   "metadata": {},
   "outputs": [
    {
     "data": {
      "text/plain": [
       "'0.0000018742'"
      ]
     },
     "execution_count": 16,
     "metadata": {},
     "output_type": "execute_result"
    }
   ],
   "source": [
    "f'{predictions[0][2]:.10f}'"
   ]
  }
 ],
 "metadata": {
  "kernelspec": {
   "display_name": "Python 3",
   "language": "python",
   "name": "python3"
  },
  "language_info": {
   "codemirror_mode": {
    "name": "ipython",
    "version": 3
   },
   "file_extension": ".py",
   "mimetype": "text/x-python",
   "name": "python",
   "nbconvert_exporter": "python",
   "pygments_lexer": "ipython3",
   "version": "3.11.1"
  }
 },
 "nbformat": 4,
 "nbformat_minor": 2
}
